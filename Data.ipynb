{
 "cells": [
  {
   "cell_type": "markdown",
   "metadata": {},
   "source": [
    "<h1 align=center><font color=red>Battle of Neighborhoods </font><h1>"
   ]
  },
  {
   "cell_type": "markdown",
   "metadata": {},
   "source": [
    "# 1. Description of the Problem and Discussion of the Background "
   ]
  },
  {
   "cell_type": "markdown",
   "metadata": {},
   "source": [
    "New York City is the largest city in the United States with long history of international immigration. This final project explores the best locations for African restaurants throughout the Bronx of New York. New York is the most populous city in the United States with more than 8.4 million (Quick Facts, 2018) people. Over 3 million of New York City’s residents are foreign-born; over one-quarter arrived in 2000 or later. They came from many parts of the world.The Black nonhispanic population of New York City numbered 1.89 million in 2014, more than double the count in any other U.S. city At the 2010 U.S. Census, there were 1,385,108 people residing in Bronx, an increase of 3.9% since 2000. The U.S. Census considers the Bronx to be the most diverse area in the country. There is an 89.7 percent chance that any two residents, chosen at random, would be of different race or ethnicity. With it's diverse culture , comes diverse food items. There are many resturants in bronx, each belonging to different categories like Chinese , Indian , French etc. According to a 2013 Census Bureau estimate, 45.8% of the Bronx's population was white, 43.3% was black or African American, 4.2% Asian, 3.0% American Indian, 0.4% Pacific Islander, and 3.3% of two or more races. In addition, 54.6% of the population was of Hispanic or Latino origin, of any race."
   ]
  },
  {
   "cell_type": "markdown",
   "metadata": {},
   "source": [
    "So, as a part of this project we will find the best place for open a new African Restaurant in Bronx of New York City."
   ]
  },
  {
   "cell_type": "markdown",
   "metadata": {},
   "source": [
    "# 2. Data Section"
   ]
  },
  {
   "cell_type": "markdown",
   "metadata": {},
   "source": [
    "For this project we need the following data:\n",
    "1. New York City data that contains Borough, Neighborhoods along with there latitudes and longitudes\n",
    "    * Data Source: https://cocl.us/new_york_dataset\n",
    "    * Description : This data set contains the required information. And we will use this data set to explore various neighborhoods of new york city. \n",
    " \n",
    "2. African resturants in Bronx neighborhood of new york city.\n",
    "    * Data Source: Foursquare API\n",
    "    * Description : By using this API we will get all the venues in Bronx neighborhood. We can filter these venues to get only African resturants. "
   ]
  },
  {
   "cell_type": "markdown",
   "metadata": {},
   "source": [
    "## Approach"
   ]
  },
  {
   "cell_type": "markdown",
   "metadata": {},
   "source": [
    "* Collect the new york city data from https://cocl.us/new_york_dataset\n",
    "* Using Foursquare API we will get all venues for each neighborhood.\n",
    "* Filter out all venues which are Indian Restaurants.\n",
    "* Data Visualization and some statistical analysis.\n",
    "* Analysing using Clustering (Specially K-Means):\n",
    "    1. Find the best value of K \n",
    "    2. Visualize the neighborhood with number of Indian Restaurants.\n",
    "* Compare the Neighborhoods to Find the Best Place for Starting up a Restaurant\n",
    "* Inference From these Results and related Conclusions"
   ]
  },
  {
   "cell_type": "markdown",
   "metadata": {},
   "source": [
    "## Target Audience"
   ]
  },
  {
   "cell_type": "markdown",
   "metadata": {},
   "source": [
    "* Business personnel who wants to invest or open a restaurant.\n",
    "* Finding the best location for opening a restaurant."
   ]
  },
  {
   "cell_type": "markdown",
   "metadata": {},
   "source": []
  },
  {
   "cell_type": "code",
   "execution_count": null,
   "metadata": {},
   "outputs": [],
   "source": []
  },
  {
   "cell_type": "markdown",
   "metadata": {},
   "source": []
  },
  {
   "cell_type": "code",
   "execution_count": null,
   "metadata": {},
   "outputs": [],
   "source": []
  },
  {
   "cell_type": "markdown",
   "metadata": {},
   "source": []
  },
  {
   "cell_type": "code",
   "execution_count": 3,
   "metadata": {},
   "outputs": [],
   "source": []
  },
  {
   "cell_type": "code",
   "execution_count": null,
   "metadata": {},
   "outputs": [],
   "source": []
  },
  {
   "cell_type": "code",
   "execution_count": null,
   "metadata": {},
   "outputs": [],
   "source": []
  }
 ],
 "metadata": {
  "kernelspec": {
   "display_name": "Python",
   "language": "python",
   "name": "conda-env-python-py"
  },
  "language_info": {
   "codemirror_mode": {
    "name": "ipython",
    "version": 3
   },
   "file_extension": ".py",
   "mimetype": "text/x-python",
   "name": "python",
   "nbconvert_exporter": "python",
   "pygments_lexer": "ipython3",
   "version": "3.6.10"
  }
 },
 "nbformat": 4,
 "nbformat_minor": 4
}
